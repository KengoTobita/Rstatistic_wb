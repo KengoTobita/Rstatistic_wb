{
 "cells": [
  {
   "cell_type": "markdown",
   "metadata": {},
   "source": [
    "# 第３章 二つの変数の記述統計"
   ]
  },
  {
   "cell_type": "code",
   "execution_count": 8,
   "metadata": {},
   "outputs": [
    {
     "name": "stderr",
     "output_type": "stream",
     "text": [
      "Updating HTML index of packages in '.Library'\n",
      "Making 'packages.html' ... done\n"
     ]
    }
   ],
   "source": [
    "# あとでいる。\n",
    "install.packages(\"ggplot2\")"
   ]
  },
  {
   "cell_type": "markdown",
   "metadata": {},
   "source": [
    "## 共分散\n",
    "2つの変数間に直線的な関係性があるか表現する\n",
    "$$\n",
    "\\frac{\\Sigma (x-\\bar{x})(y-\\bar{y})}{n}\n",
    "$$"
   ]
  },
  {
   "cell_type": "code",
   "execution_count": 130,
   "metadata": {},
   "outputs": [],
   "source": [
    "x <- rnorm(3000,mean=60,sd=10)\n",
    "y <- x + rnorm(3000,sd=100)"
   ]
  },
  {
   "cell_type": "markdown",
   "metadata": {},
   "source": [
    "下記のコードは共分散をRの独自関数で作成したものです。"
   ]
  },
  {
   "cell_type": "code",
   "execution_count": 131,
   "metadata": {},
   "outputs": [],
   "source": [
    "kyobunsan <- function(x,y){\n",
    "    x_mean <- mean(x)\n",
    "    y_mean <- mean(y)\n",
    "    x_dev <- x - x_mean\n",
    "    y_dev <- y - y_mean\n",
    "    answer = 0\n",
    "    for (i in 1:length(x)){\n",
    "        seki <- x_dev[i]*y_dev[i]\n",
    "        answer <- answer+seki\n",
    "    }\n",
    "    answer/length(x)\n",
    "}"
   ]
  },
  {
   "cell_type": "code",
   "execution_count": 132,
   "metadata": {},
   "outputs": [
    {
     "data": {
      "text/html": [
       "76.3887761766429"
      ],
      "text/latex": [
       "76.3887761766429"
      ],
      "text/markdown": [
       "76.3887761766429"
      ],
      "text/plain": [
       "[1] 76.38878"
      ]
     },
     "metadata": {},
     "output_type": "display_data"
    },
    {
     "data": {
      "text/html": [
       "76.4142475925071"
      ],
      "text/latex": [
       "76.4142475925071"
      ],
      "text/markdown": [
       "76.4142475925071"
      ],
      "text/plain": [
       "[1] 76.41425"
      ]
     },
     "metadata": {},
     "output_type": "display_data"
    }
   ],
   "source": [
    "kyobunsan(x,y)\n",
    "cov(x,y)"
   ]
  },
  {
   "cell_type": "markdown",
   "metadata": {},
   "source": [
    "あれれ……おかしいなぁ。<br>\n",
    "同じ共分散を計算したはずなのに数が違う.<br>\n",
    "これは不偏共分散でn-1で割っているからです。\n"
   ]
  },
  {
   "cell_type": "code",
   "execution_count": 133,
   "metadata": {},
   "outputs": [],
   "source": [
    "kyobunsan <- function(x,y){\n",
    "    x_mean <- mean(x)\n",
    "    y_mean <- mean(y)\n",
    "    x_dev <- x - x_mean\n",
    "    y_dev <- y - y_mean\n",
    "    answer = 0\n",
    "    for (i in 1:length(x)){\n",
    "        seki <- x_dev[i]*y_dev[i]\n",
    "        answer <- answer+seki\n",
    "    }\n",
    "    answer/(length(x)-1)\n",
    "}"
   ]
  },
  {
   "cell_type": "code",
   "execution_count": 134,
   "metadata": {},
   "outputs": [
    {
     "data": {
      "text/html": [
       "76.4142475925071"
      ],
      "text/latex": [
       "76.4142475925071"
      ],
      "text/markdown": [
       "76.4142475925071"
      ],
      "text/plain": [
       "[1] 76.41425"
      ]
     },
     "metadata": {},
     "output_type": "display_data"
    },
    {
     "data": {
      "text/html": [
       "76.4142475925071"
      ],
      "text/latex": [
       "76.4142475925071"
      ],
      "text/markdown": [
       "76.4142475925071"
      ],
      "text/plain": [
       "[1] 76.41425"
      ]
     },
     "metadata": {},
     "output_type": "display_data"
    }
   ],
   "source": [
    "kyobunsan(x,y)\n",
    "cov(x,y)"
   ]
  },
  {
   "cell_type": "markdown",
   "metadata": {},
   "source": [
    "## 相関関係\n",
    "共分散をxの標準偏差とyの標準偏差で割った数。<br>\n",
    "-1~1の間の数で表現することができる。<br>\n",
    "  \n",
    "1に近ければ近いほど正の相関が強く、<br>\n",
    "-1に近ければ近いほど負の相関が強く、<br>\n",
    "0に近ければ近いほど相関が弱い。\n",
    "$$\n",
    "\\frac{\\Sigma (x-\\bar{x})(y-\\bar{y})}{\\sqrt{\\Sigma (x-\\bar{x})^2}\\sqrt{\\Sigma (y-\\bar{y})^2}}\n",
    "$$"
   ]
  },
  {
   "cell_type": "code",
   "execution_count": 137,
   "metadata": {},
   "outputs": [],
   "source": [
    "sokan <- function(x,y){\n",
    "    x_mean <- mean(x)\n",
    "    y_mean <- mean(y)\n",
    "    x_dev <- x - x_mean\n",
    "    y_dev <- y - y_mean\n",
    "    answer = 0\n",
    "    for (i in 1:length(x)){\n",
    "        seki <- x_dev[i]*y_dev[i]\n",
    "        answer <- answer+seki\n",
    "    }\n",
    "    covar = answer/length(x)\n",
    "    covar/sd(x)/sd(y) # ここのsdは不偏分散。けど書くの面倒だなぁ……\n",
    "}"
   ]
  },
  {
   "cell_type": "code",
   "execution_count": 138,
   "metadata": {},
   "outputs": [
    {
     "data": {
      "text/html": [
       "0.0751577242599739"
      ],
      "text/latex": [
       "0.0751577242599739"
      ],
      "text/markdown": [
       "0.0751577242599739"
      ],
      "text/plain": [
       "[1] 0.07515772"
      ]
     },
     "metadata": {},
     "output_type": "display_data"
    },
    {
     "data": {
      "text/html": [
       "0.07518278518837"
      ],
      "text/latex": [
       "0.07518278518837"
      ],
      "text/markdown": [
       "0.07518278518837"
      ],
      "text/plain": [
       "[1] 0.07518279"
      ]
     },
     "metadata": {},
     "output_type": "display_data"
    }
   ],
   "source": [
    "sokan(x,y)\n",
    "cor(x,y)"
   ]
  },
  {
   "cell_type": "markdown",
   "metadata": {},
   "source": [
    "相関を可視化しよう。"
   ]
  },
  {
   "cell_type": "code",
   "execution_count": 22,
   "metadata": {},
   "outputs": [
    {
     "data": {
      "text/plain": [
       "   Min. 1st Qu.  Median    Mean 3rd Qu.    Max. \n",
       "  26.68   53.01   60.26   59.36   66.05   85.41 "
      ]
     },
     "metadata": {},
     "output_type": "display_data"
    },
    {
     "data": {
      "text/plain": [
       "    Min.  1st Qu.   Median     Mean  3rd Qu.     Max. \n",
       "-2004.39   -40.72   506.28   545.79  1158.25  3771.33 "
      ]
     },
     "metadata": {},
     "output_type": "display_data"
    },
    {
     "data": {
      "text/html": [
       "1338.79700710991"
      ],
      "text/latex": [
       "1338.79700710991"
      ],
      "text/markdown": [
       "1338.79700710991"
      ],
      "text/plain": [
       "[1] 1338.797"
      ]
     },
     "metadata": {},
     "output_type": "display_data"
    },
    {
     "data": {
      "text/html": [
       "0.145025470949151"
      ],
      "text/latex": [
       "0.145025470949151"
      ],
      "text/markdown": [
       "0.145025470949151"
      ],
      "text/plain": [
       "[1] 0.1450255"
      ]
     },
     "metadata": {},
     "output_type": "display_data"
    },
    {
     "data": {
      "image/png": "[encoded data removed]",
      "text/plain": [
       "plot without title"
      ]
     },
     "metadata": {},
     "output_type": "display_data"
    }
   ],
   "source": [
    "x <- rnorm(300,mean = 60,sd=10)\n",
    "summary(x)\n",
    "y <- 10*x + rnorm(300,sd=1000) #散らばり具合はココのsdが支配してたりする。\n",
    "summary(y)\n",
    "\n",
    "cov(x,y)\n",
    "cor(x,y)\n",
    "library(ggplot2)\n",
    "qplot(x,y)"
   ]
  },
  {
   "cell_type": "code",
   "execution_count": 13,
   "metadata": {},
   "outputs": [
    {
     "data": {
      "text/plain": [
       "   Min. 1st Qu.  Median    Mean 3rd Qu.    Max. \n",
       "  34.96   53.41   60.83   60.24   67.11   89.28 "
      ]
     },
     "metadata": {},
     "output_type": "display_data"
    },
    {
     "data": {
      "text/plain": [
       "   Min. 1st Qu.  Median    Mean 3rd Qu.    Max. \n",
       "  348.8   535.6   600.7   601.1   673.7   887.4 "
      ]
     },
     "metadata": {},
     "output_type": "display_data"
    },
    {
     "data": {
      "text/html": [
       "1059.77804635666"
      ],
      "text/latex": [
       "1059.77804635666"
      ],
      "text/markdown": [
       "1059.77804635666"
      ],
      "text/plain": [
       "[1] 1059.778"
      ]
     },
     "metadata": {},
     "output_type": "display_data"
    },
    {
     "data": {
      "text/html": [
       "0.994549628436805"
      ],
      "text/latex": [
       "0.994549628436805"
      ],
      "text/markdown": [
       "0.994549628436805"
      ],
      "text/plain": [
       "[1] 0.9945496"
      ]
     },
     "metadata": {},
     "output_type": "display_data"
    },
    {
     "data": {
      "image/png": "[encoded data removed]",
      "text/plain": [
       "plot without title"
      ]
     },
     "metadata": {},
     "output_type": "display_data"
    }
   ],
   "source": [
    "x <- rnorm(300,mean = 60,sd=10)\n",
    "summary(x)\n",
    "y <- 10*x + rnorm(300,sd=10)\n",
    "summary(y)\n",
    "\n",
    "cov(x,y)\n",
    "cor(x,y)\n",
    "library(ggplot2)\n",
    "qplot(x,y)"
   ]
  },
  {
   "cell_type": "markdown",
   "metadata": {},
   "source": [
    "こんなこともありえます。<br>\n",
    "二つの変数は強い関係性(因果関係)を持っていますが、相関係数は非常に低い。"
   ]
  },
  {
   "cell_type": "code",
   "execution_count": 21,
   "metadata": {},
   "outputs": [
    {
     "data": {
      "text/html": [
       "234.36591947594"
      ],
      "text/latex": [
       "234.36591947594"
      ],
      "text/markdown": [
       "234.36591947594"
      ],
      "text/plain": [
       "[1] 234.3659"
      ]
     },
     "metadata": {},
     "output_type": "display_data"
    },
    {
     "data": {
      "text/html": [
       "0.172290803348319"
      ],
      "text/latex": [
       "0.172290803348319"
      ],
      "text/markdown": [
       "0.172290803348319"
      ],
      "text/plain": [
       "[1] 0.1722908"
      ]
     },
     "metadata": {},
     "output_type": "display_data"
    },
    {
     "data": {
      "image/png": "[encoded data removed]",
      "text/plain": [
       "plot without title"
      ]
     },
     "metadata": {},
     "output_type": "display_data"
    }
   ],
   "source": [
    "x <- rnorm(300  , sd=10)\n",
    "y <- x^2 +10\n",
    "cov(x,y)\n",
    "cor(x,y)\n",
    "qplot(x,y)"
   ]
  },
  {
   "cell_type": "markdown",
   "metadata": {},
   "source": [
    "### (因果関係と相関関係は別物なのでお気をつけください)"
   ]
  }
 ],
 "metadata": {
  "kernelspec": {
   "display_name": "R",
   "language": "R",
   "name": "ir"
  },
  "language_info": {
   "codemirror_mode": "r",
   "file_extension": ".r",
   "mimetype": "text/x-r-source",
   "name": "R",
   "pygments_lexer": "r",
   "version": "3.5.1"
  }
 },
 "nbformat": 4,
 "nbformat_minor": 2
}
