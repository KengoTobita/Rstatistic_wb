{
 "cells": [
  {
   "cell_type": "markdown",
   "metadata": {},
   "source": [
    "# 一つの変数の記述統計\n",
    "\n",
    "### 質的変数\n",
    "カテゴリー分けとして使用される変数。<br>\n",
    "男か女か、都道府県など。\n",
    "### 量的変数\n",
    "連続的な数値をとる変数。<br>\n",
    "テストの点数や面積や身長など。"
   ]
  },
  {
   "cell_type": "markdown",
   "metadata": {},
   "source": [
    "## データの視覚的表現"
   ]
  },
  {
   "cell_type": "code",
   "execution_count": 16,
   "metadata": {},
   "outputs": [
    {
     "data": {
      "text/html": [
       "<ol class=list-inline>\n",
       "\t<li>'C'</li>\n",
       "\t<li>'D'</li>\n",
       "\t<li>'D'</li>\n",
       "\t<li>'C'</li>\n",
       "\t<li>'B'</li>\n",
       "\t<li>'A'</li>\n",
       "\t<li>'B'</li>\n",
       "\t<li>'A'</li>\n",
       "\t<li>'A'</li>\n",
       "\t<li>'D'</li>\n",
       "\t<li>'D'</li>\n",
       "\t<li>'B'</li>\n",
       "\t<li>'D'</li>\n",
       "\t<li>'A'</li>\n",
       "\t<li>'A'</li>\n",
       "\t<li>'D'</li>\n",
       "\t<li>'B'</li>\n",
       "\t<li>'C'</li>\n",
       "\t<li>'D'</li>\n",
       "\t<li>'C'</li>\n",
       "</ol>\n"
      ],
      "text/latex": [
       "\\begin{enumerate*}\n",
       "\\item 'C'\n",
       "\\item 'D'\n",
       "\\item 'D'\n",
       "\\item 'C'\n",
       "\\item 'B'\n",
       "\\item 'A'\n",
       "\\item 'B'\n",
       "\\item 'A'\n",
       "\\item 'A'\n",
       "\\item 'D'\n",
       "\\item 'D'\n",
       "\\item 'B'\n",
       "\\item 'D'\n",
       "\\item 'A'\n",
       "\\item 'A'\n",
       "\\item 'D'\n",
       "\\item 'B'\n",
       "\\item 'C'\n",
       "\\item 'D'\n",
       "\\item 'C'\n",
       "\\end{enumerate*}\n"
      ],
      "text/markdown": [
       "1. 'C'\n",
       "2. 'D'\n",
       "3. 'D'\n",
       "4. 'C'\n",
       "5. 'B'\n",
       "6. 'A'\n",
       "7. 'B'\n",
       "8. 'A'\n",
       "9. 'A'\n",
       "10. 'D'\n",
       "11. 'D'\n",
       "12. 'B'\n",
       "13. 'D'\n",
       "14. 'A'\n",
       "15. 'A'\n",
       "16. 'D'\n",
       "17. 'B'\n",
       "18. 'C'\n",
       "19. 'D'\n",
       "20. 'C'\n",
       "\n",
       "\n"
      ],
      "text/plain": [
       " [1] \"C\" \"D\" \"D\" \"C\" \"B\" \"A\" \"B\" \"A\" \"A\" \"D\" \"D\" \"B\" \"D\" \"A\" \"A\" \"D\" \"B\" \"C\" \"D\"\n",
       "[20] \"C\""
      ]
     },
     "metadata": {},
     "output_type": "display_data"
    }
   ],
   "source": [
    "指導法 <- c('C' ,'D', 'D', 'C', 'B', 'A', 'B' ,'A' ,'A' ,'D' ,'D' ,'B' ,'D' ,'A' ,'A' ,'D' ,'B' ,'C' ,'D' ,'C')\n",
    "指導法"
   ]
  },
  {
   "cell_type": "code",
   "execution_count": 18,
   "metadata": {},
   "outputs": [
    {
     "data": {
      "text/plain": [
       "指導法\n",
       "A B C D \n",
       "5 4 4 7 "
      ]
     },
     "metadata": {},
     "output_type": "display_data"
    }
   ],
   "source": [
    "table(指導法)"
   ]
  },
  {
   "cell_type": "code",
   "execution_count": 23,
   "metadata": {},
   "outputs": [],
   "source": [
    "心理学テスト <- c(9 ,6 ,7 ,6 ,10 ,8 ,4 ,14, 7 ,13 ,5 ,5 ,7 ,6 ,6 ,12 ,10 ,8 ,7 ,13)"
   ]
  },
  {
   "cell_type": "code",
   "execution_count": 25,
   "metadata": {
    "collapsed": true
   },
   "outputs": [
    {
     "data": {
      "text/plain": [
       "心理学テスト\n",
       " 4  5  6  7  8  9 10 12 13 14 \n",
       " 1  2  4  4  2  1  2  1  2  1 "
      ]
     },
     "metadata": {},
     "output_type": "display_data"
    },
    {
     "data": {
      "image/png": "[encoded data removed]",
      "text/plain": [
       "Plot with title “Histogram of 心理学テスト”"
      ]
     },
     "metadata": {},
     "output_type": "display_data"
    }
   ],
   "source": [
    "table(心理学テスト)\n",
    "hist(心理学テスト)"
   ]
  },
  {
   "cell_type": "markdown",
   "metadata": {},
   "source": [
    "## 2.5 平均とは"
   ]
  },
  {
   "cell_type": "code",
   "execution_count": 28,
   "metadata": {},
   "outputs": [
    {
     "data": {
      "text/html": [
       "8.15"
      ],
      "text/latex": [
       "8.15"
      ],
      "text/markdown": [
       "8.15"
      ],
      "text/plain": [
       "[1] 8.15"
      ]
     },
     "metadata": {},
     "output_type": "display_data"
    }
   ],
   "source": [
    "sum(心理学テスト)/20 # 20は「心理テスト」のサンプルの数。(rnorm(20,mean=10, sd=3))"
   ]
  },
  {
   "cell_type": "code",
   "execution_count": 32,
   "metadata": {},
   "outputs": [
    {
     "data": {
      "text/html": [
       "8.15"
      ],
      "text/latex": [
       "8.15"
      ],
      "text/markdown": [
       "8.15"
      ],
      "text/plain": [
       "[1] 8.15"
      ]
     },
     "metadata": {},
     "output_type": "display_data"
    }
   ],
   "source": [
    "#こっちの方がスマート\n",
    "\n",
    "heikin <- function(data){\n",
    "    sum(心理学テスト)/length(心理学テスト)\n",
    "}\n",
    "\n",
    "heikin(心理学テスト)"
   ]
  },
  {
   "cell_type": "markdown",
   "metadata": {},
   "source": [
    "平均値以外にも代表値は存在します。\n",
    "\n",
    "### 中央値 (median)\n",
    "値を背の順に並べて、ちょうど真ん中の値のこと。<br>\n",
    "偶数の場合は、真ん中の値を足して２でわる。\n",
    "### 最頻値 (mode)\n",
    "登場した数値の中でもっとも多く登場した数。"
   ]
  },
  {
   "cell_type": "code",
   "execution_count": 33,
   "metadata": {},
   "outputs": [
    {
     "data": {
      "text/html": [
       "2"
      ],
      "text/latex": [
       "2"
      ],
      "text/markdown": [
       "2"
      ],
      "text/plain": [
       "[1] 2"
      ]
     },
     "metadata": {},
     "output_type": "display_data"
    }
   ],
   "source": [
    "10 %% 4"
   ]
  },
  {
   "cell_type": "code",
   "execution_count": 139,
   "metadata": {},
   "outputs": [],
   "source": [
    "chuoti <- function(data){\n",
    "    data <- sort(data)\n",
    "    if(length(data) %% 2 == 0){\n",
    "        mode_1 <- data[length(data)/2] \n",
    "        mode_2 <- data[length(data)/2 +1]\n",
    "        goukei <- mode_1 + mode_2 \n",
    "        goukei /2\n",
    "    }\n",
    "    else{\n",
    "        index_mode <- length(data)\n",
    "        index_mode <- round(index_mode)\n",
    "        data[index_mode]\n",
    "    }\n",
    "}"
   ]
  },
  {
   "cell_type": "markdown",
   "metadata": {},
   "source": [
    "## 2.8 分散、標準偏差"
   ]
  },
  {
   "cell_type": "markdown",
   "metadata": {},
   "source": [
    "擬似的にテストデータを作成。<br>\n",
    "rnorm(20 , mean=60 , sd=10)"
   ]
  },
  {
   "cell_type": "code",
   "execution_count": 152,
   "metadata": {},
   "outputs": [
    {
     "data": {
      "text/html": [
       "<ol class=list-inline>\n",
       "\t<li>61</li>\n",
       "\t<li>53</li>\n",
       "\t<li>53</li>\n",
       "\t<li>55</li>\n",
       "\t<li>57</li>\n",
       "\t<li>64</li>\n",
       "\t<li>66</li>\n",
       "\t<li>61</li>\n",
       "\t<li>51</li>\n",
       "\t<li>58</li>\n",
       "\t<li>69</li>\n",
       "\t<li>65</li>\n",
       "\t<li>42</li>\n",
       "\t<li>86</li>\n",
       "\t<li>65</li>\n",
       "\t<li>64</li>\n",
       "\t<li>81</li>\n",
       "\t<li>63</li>\n",
       "\t<li>43</li>\n",
       "\t<li>64</li>\n",
       "</ol>\n"
      ],
      "text/latex": [
       "\\begin{enumerate*}\n",
       "\\item 61\n",
       "\\item 53\n",
       "\\item 53\n",
       "\\item 55\n",
       "\\item 57\n",
       "\\item 64\n",
       "\\item 66\n",
       "\\item 61\n",
       "\\item 51\n",
       "\\item 58\n",
       "\\item 69\n",
       "\\item 65\n",
       "\\item 42\n",
       "\\item 86\n",
       "\\item 65\n",
       "\\item 64\n",
       "\\item 81\n",
       "\\item 63\n",
       "\\item 43\n",
       "\\item 64\n",
       "\\end{enumerate*}\n"
      ],
      "text/markdown": [
       "1. 61\n",
       "2. 53\n",
       "3. 53\n",
       "4. 55\n",
       "5. 57\n",
       "6. 64\n",
       "7. 66\n",
       "8. 61\n",
       "9. 51\n",
       "10. 58\n",
       "11. 69\n",
       "12. 65\n",
       "13. 42\n",
       "14. 86\n",
       "15. 65\n",
       "16. 64\n",
       "17. 81\n",
       "18. 63\n",
       "19. 43\n",
       "20. 64\n",
       "\n",
       "\n"
      ],
      "text/plain": [
       " [1] 61 53 53 55 57 64 66 61 51 58 69 65 42 86 65 64 81 63 43 64"
      ]
     },
     "metadata": {},
     "output_type": "display_data"
    },
    {
     "data": {
      "text/plain": [
       "   Min. 1st Qu.  Median    Mean 3rd Qu.    Max. \n",
       "  42.00   54.50   62.00   61.05   65.00   86.00 "
      ]
     },
     "metadata": {},
     "output_type": "display_data"
    },
    {
     "data": {
      "image/png": "[encoded data removed]",
      "text/plain": [
       "Plot with title “Histogram of test_a”"
      ]
     },
     "metadata": {},
     "output_type": "display_data"
    }
   ],
   "source": [
    "test_a <- rnorm(20 , mean = 60 , sd = 10 )\n",
    "test_a <- round(test_a)\n",
    "test_a\n",
    "summary(test_a)\n",
    "hist(test_a)"
   ]
  },
  {
   "cell_type": "code",
   "execution_count": 158,
   "metadata": {},
   "outputs": [
    {
     "data": {
      "text/html": [
       "61.05"
      ],
      "text/latex": [
       "61.05"
      ],
      "text/markdown": [
       "61.05"
      ],
      "text/plain": [
       "[1] 61.05"
      ]
     },
     "metadata": {},
     "output_type": "display_data"
    }
   ],
   "source": [
    "test_mean <- mean(test_a)\n",
    "test_mean"
   ]
  },
  {
   "cell_type": "markdown",
   "metadata": {},
   "source": [
    "偏差とは何か……"
   ]
  },
  {
   "cell_type": "code",
   "execution_count": 160,
   "metadata": {
    "scrolled": true
   },
   "outputs": [
    {
     "data": {
      "text/html": [
       "<ol class=list-inline>\n",
       "\t<li>-0.0499999999999972</li>\n",
       "\t<li>-8.05</li>\n",
       "\t<li>-8.05</li>\n",
       "\t<li>-6.05</li>\n",
       "\t<li>-4.05</li>\n",
       "\t<li>2.95</li>\n",
       "\t<li>4.95</li>\n",
       "\t<li>-0.0499999999999972</li>\n",
       "\t<li>-10.05</li>\n",
       "\t<li>-3.05</li>\n",
       "\t<li>7.95</li>\n",
       "\t<li>3.95</li>\n",
       "\t<li>-19.05</li>\n",
       "\t<li>24.95</li>\n",
       "\t<li>3.95</li>\n",
       "\t<li>2.95</li>\n",
       "\t<li>19.95</li>\n",
       "\t<li>1.95</li>\n",
       "\t<li>-18.05</li>\n",
       "\t<li>2.95</li>\n",
       "</ol>\n"
      ],
      "text/latex": [
       "\\begin{enumerate*}\n",
       "\\item -0.0499999999999972\n",
       "\\item -8.05\n",
       "\\item -8.05\n",
       "\\item -6.05\n",
       "\\item -4.05\n",
       "\\item 2.95\n",
       "\\item 4.95\n",
       "\\item -0.0499999999999972\n",
       "\\item -10.05\n",
       "\\item -3.05\n",
       "\\item 7.95\n",
       "\\item 3.95\n",
       "\\item -19.05\n",
       "\\item 24.95\n",
       "\\item 3.95\n",
       "\\item 2.95\n",
       "\\item 19.95\n",
       "\\item 1.95\n",
       "\\item -18.05\n",
       "\\item 2.95\n",
       "\\end{enumerate*}\n"
      ],
      "text/markdown": [
       "1. -0.0499999999999972\n",
       "2. -8.05\n",
       "3. -8.05\n",
       "4. -6.05\n",
       "5. -4.05\n",
       "6. 2.95\n",
       "7. 4.95\n",
       "8. -0.0499999999999972\n",
       "9. -10.05\n",
       "10. -3.05\n",
       "11. 7.95\n",
       "12. 3.95\n",
       "13. -19.05\n",
       "14. 24.95\n",
       "15. 3.95\n",
       "16. 2.95\n",
       "17. 19.95\n",
       "18. 1.95\n",
       "19. -18.05\n",
       "20. 2.95\n",
       "\n",
       "\n"
      ],
      "text/plain": [
       " [1]  -0.05  -8.05  -8.05  -6.05  -4.05   2.95   4.95  -0.05 -10.05  -3.05\n",
       "[11]   7.95   3.95 -19.05  24.95   3.95   2.95  19.95   1.95 -18.05   2.95"
      ]
     },
     "metadata": {},
     "output_type": "display_data"
    },
    {
     "data": {
      "text/html": [
       "5.6843418860808e-14"
      ],
      "text/latex": [
       "5.6843418860808e-14"
      ],
      "text/markdown": [
       "5.6843418860808e-14"
      ],
      "text/plain": [
       "[1] 5.684342e-14"
      ]
     },
     "metadata": {},
     "output_type": "display_data"
    }
   ],
   "source": [
    "test_dev <- test_a - test_mean\n",
    "test_dev\n",
    "sum(test_dev)　# 偏差の合計はゼロ……だけど割り算で出た誤差がでてますね。"
   ]
  },
  {
   "cell_type": "markdown",
   "metadata": {},
   "source": [
    "偏差を２乗することで、偏差の大きさを評価しやすくなる。"
   ]
  },
  {
   "cell_type": "code",
   "execution_count": 165,
   "metadata": {},
   "outputs": [
    {
     "data": {
      "text/html": [
       "<ol class=list-inline>\n",
       "\t<li>0.00249999999999972</li>\n",
       "\t<li>64.8025</li>\n",
       "\t<li>64.8025</li>\n",
       "\t<li>36.6025</li>\n",
       "\t<li>16.4025</li>\n",
       "\t<li>8.70250000000002</li>\n",
       "\t<li>24.5025</li>\n",
       "\t<li>0.00249999999999972</li>\n",
       "\t<li>101.0025</li>\n",
       "\t<li>9.30249999999998</li>\n",
       "\t<li>63.2025</li>\n",
       "\t<li>15.6025</li>\n",
       "\t<li>362.9025</li>\n",
       "\t<li>622.5025</li>\n",
       "\t<li>15.6025</li>\n",
       "\t<li>8.70250000000002</li>\n",
       "\t<li>398.0025</li>\n",
       "\t<li>3.80250000000001</li>\n",
       "\t<li>325.8025</li>\n",
       "\t<li>8.70250000000002</li>\n",
       "</ol>\n"
      ],
      "text/latex": [
       "\\begin{enumerate*}\n",
       "\\item 0.00249999999999972\n",
       "\\item 64.8025\n",
       "\\item 64.8025\n",
       "\\item 36.6025\n",
       "\\item 16.4025\n",
       "\\item 8.70250000000002\n",
       "\\item 24.5025\n",
       "\\item 0.00249999999999972\n",
       "\\item 101.0025\n",
       "\\item 9.30249999999998\n",
       "\\item 63.2025\n",
       "\\item 15.6025\n",
       "\\item 362.9025\n",
       "\\item 622.5025\n",
       "\\item 15.6025\n",
       "\\item 8.70250000000002\n",
       "\\item 398.0025\n",
       "\\item 3.80250000000001\n",
       "\\item 325.8025\n",
       "\\item 8.70250000000002\n",
       "\\end{enumerate*}\n"
      ],
      "text/markdown": [
       "1. 0.00249999999999972\n",
       "2. 64.8025\n",
       "3. 64.8025\n",
       "4. 36.6025\n",
       "5. 16.4025\n",
       "6. 8.70250000000002\n",
       "7. 24.5025\n",
       "8. 0.00249999999999972\n",
       "9. 101.0025\n",
       "10. 9.30249999999998\n",
       "11. 63.2025\n",
       "12. 15.6025\n",
       "13. 362.9025\n",
       "14. 622.5025\n",
       "15. 15.6025\n",
       "16. 8.70250000000002\n",
       "17. 398.0025\n",
       "18. 3.80250000000001\n",
       "19. 325.8025\n",
       "20. 8.70250000000002\n",
       "\n",
       "\n"
      ],
      "text/plain": [
       " [1]   0.0025  64.8025  64.8025  36.6025  16.4025   8.7025  24.5025   0.0025\n",
       " [9] 101.0025   9.3025  63.2025  15.6025 362.9025 622.5025  15.6025   8.7025\n",
       "[17] 398.0025   3.8025 325.8025   8.7025"
      ]
     },
     "metadata": {},
     "output_type": "display_data"
    }
   ],
   "source": [
    "test_dev_sq <- test_dev**2\n",
    "test_dev_sq"
   ]
  },
  {
   "cell_type": "markdown",
   "metadata": {},
   "source": [
    "分散を計算してみよう。"
   ]
  },
  {
   "cell_type": "code",
   "execution_count": 169,
   "metadata": {},
   "outputs": [
    {
     "data": {
      "text/html": [
       "107.5475"
      ],
      "text/latex": [
       "107.5475"
      ],
      "text/markdown": [
       "107.5475"
      ],
      "text/plain": [
       "[1] 107.5475"
      ]
     },
     "metadata": {},
     "output_type": "display_data"
    }
   ],
   "source": [
    "test_dev_sq_sum <- sum(test_dev_sq)\n",
    "test_variance <- test_dev_sq_sum / length(test_dev_sq)\n",
    "test_variance"
   ]
  },
  {
   "cell_type": "markdown",
   "metadata": {},
   "source": [
    "分散の平方根が「標準偏差」になります。"
   ]
  },
  {
   "cell_type": "code",
   "execution_count": 171,
   "metadata": {},
   "outputs": [
    {
     "data": {
      "text/html": [
       "10.3705110770878"
      ],
      "text/latex": [
       "10.3705110770878"
      ],
      "text/markdown": [
       "10.3705110770878"
      ],
      "text/plain": [
       "[1] 10.37051"
      ]
     },
     "metadata": {},
     "output_type": "display_data"
    }
   ],
   "source": [
    "test_sd <- sqrt(test_variance)\n",
    "test_sd #元の分布は sd=10 だったので妥当。"
   ]
  },
  {
   "cell_type": "markdown",
   "metadata": {},
   "source": [
    "まぁ、分散も標準偏差も関数が用意されているんですけど。<br>\n",
    "(不偏分散なのでn-1で割っているので数字が違います)\n"
   ]
  },
  {
   "cell_type": "code",
   "execution_count": 174,
   "metadata": {},
   "outputs": [
    {
     "data": {
      "text/html": [
       "113.207894736842"
      ],
      "text/latex": [
       "113.207894736842"
      ],
      "text/markdown": [
       "113.207894736842"
      ],
      "text/plain": [
       "[1] 113.2079"
      ]
     },
     "metadata": {},
     "output_type": "display_data"
    },
    {
     "data": {
      "text/html": [
       "10.6399198651513"
      ],
      "text/latex": [
       "10.6399198651513"
      ],
      "text/markdown": [
       "10.6399198651513"
      ],
      "text/plain": [
       "[1] 10.63992"
      ]
     },
     "metadata": {},
     "output_type": "display_data"
    }
   ],
   "source": [
    "# 分散の関数F¥\n",
    "var(test_a )\n",
    "# 標準偏差の関数\n",
    "sd(test_a)"
   ]
  },
  {
   "cell_type": "markdown",
   "metadata": {},
   "source": [
    "## 2.9 分散、標準偏差以外の散布度"
   ]
  },
  {
   "cell_type": "code",
   "execution_count": 178,
   "metadata": {},
   "outputs": [
    {
     "data": {
      "text/html": [
       "<ol class=list-inline>\n",
       "\t<li>61</li>\n",
       "\t<li>53</li>\n",
       "\t<li>53</li>\n",
       "\t<li>55</li>\n",
       "\t<li>57</li>\n",
       "\t<li>64</li>\n",
       "\t<li>66</li>\n",
       "\t<li>61</li>\n",
       "\t<li>51</li>\n",
       "\t<li>58</li>\n",
       "\t<li>69</li>\n",
       "\t<li>65</li>\n",
       "\t<li>42</li>\n",
       "\t<li>86</li>\n",
       "\t<li>65</li>\n",
       "\t<li>64</li>\n",
       "\t<li>81</li>\n",
       "\t<li>63</li>\n",
       "\t<li>43</li>\n",
       "\t<li>64</li>\n",
       "</ol>\n"
      ],
      "text/latex": [
       "\\begin{enumerate*}\n",
       "\\item 61\n",
       "\\item 53\n",
       "\\item 53\n",
       "\\item 55\n",
       "\\item 57\n",
       "\\item 64\n",
       "\\item 66\n",
       "\\item 61\n",
       "\\item 51\n",
       "\\item 58\n",
       "\\item 69\n",
       "\\item 65\n",
       "\\item 42\n",
       "\\item 86\n",
       "\\item 65\n",
       "\\item 64\n",
       "\\item 81\n",
       "\\item 63\n",
       "\\item 43\n",
       "\\item 64\n",
       "\\end{enumerate*}\n"
      ],
      "text/markdown": [
       "1. 61\n",
       "2. 53\n",
       "3. 53\n",
       "4. 55\n",
       "5. 57\n",
       "6. 64\n",
       "7. 66\n",
       "8. 61\n",
       "9. 51\n",
       "10. 58\n",
       "11. 69\n",
       "12. 65\n",
       "13. 42\n",
       "14. 86\n",
       "15. 65\n",
       "16. 64\n",
       "17. 81\n",
       "18. 63\n",
       "19. 43\n",
       "20. 64\n",
       "\n",
       "\n"
      ],
      "text/plain": [
       " [1] 61 53 53 55 57 64 66 61 51 58 69 65 42 86 65 64 81 63 43 64"
      ]
     },
     "metadata": {},
     "output_type": "display_data"
    },
    {
     "data": {
      "text/html": [
       "61.05"
      ],
      "text/latex": [
       "61.05"
      ],
      "text/markdown": [
       "61.05"
      ],
      "text/plain": [
       "[1] 61.05"
      ]
     },
     "metadata": {},
     "output_type": "display_data"
    }
   ],
   "source": [
    "test_a\n",
    "test_mean <- mean(test_a)\n",
    "mean(test_a)"
   ]
  },
  {
   "cell_type": "markdown",
   "metadata": {},
   "source": [
    "それぞれの偏差を平均すると「平均偏差」"
   ]
  },
  {
   "cell_type": "code",
   "execution_count": 182,
   "metadata": {},
   "outputs": [
    {
     "data": {
      "text/html": [
       "<ol class=list-inline>\n",
       "\t<li>0.0499999999999972</li>\n",
       "\t<li>8.05</li>\n",
       "\t<li>8.05</li>\n",
       "\t<li>6.05</li>\n",
       "\t<li>4.05</li>\n",
       "\t<li>2.95</li>\n",
       "\t<li>4.95</li>\n",
       "\t<li>0.0499999999999972</li>\n",
       "\t<li>10.05</li>\n",
       "\t<li>3.05</li>\n",
       "\t<li>7.95</li>\n",
       "\t<li>3.95</li>\n",
       "\t<li>19.05</li>\n",
       "\t<li>24.95</li>\n",
       "\t<li>3.95</li>\n",
       "\t<li>2.95</li>\n",
       "\t<li>19.95</li>\n",
       "\t<li>1.95</li>\n",
       "\t<li>18.05</li>\n",
       "\t<li>2.95</li>\n",
       "</ol>\n"
      ],
      "text/latex": [
       "\\begin{enumerate*}\n",
       "\\item 0.0499999999999972\n",
       "\\item 8.05\n",
       "\\item 8.05\n",
       "\\item 6.05\n",
       "\\item 4.05\n",
       "\\item 2.95\n",
       "\\item 4.95\n",
       "\\item 0.0499999999999972\n",
       "\\item 10.05\n",
       "\\item 3.05\n",
       "\\item 7.95\n",
       "\\item 3.95\n",
       "\\item 19.05\n",
       "\\item 24.95\n",
       "\\item 3.95\n",
       "\\item 2.95\n",
       "\\item 19.95\n",
       "\\item 1.95\n",
       "\\item 18.05\n",
       "\\item 2.95\n",
       "\\end{enumerate*}\n"
      ],
      "text/markdown": [
       "1. 0.0499999999999972\n",
       "2. 8.05\n",
       "3. 8.05\n",
       "4. 6.05\n",
       "5. 4.05\n",
       "6. 2.95\n",
       "7. 4.95\n",
       "8. 0.0499999999999972\n",
       "9. 10.05\n",
       "10. 3.05\n",
       "11. 7.95\n",
       "12. 3.95\n",
       "13. 19.05\n",
       "14. 24.95\n",
       "15. 3.95\n",
       "16. 2.95\n",
       "17. 19.95\n",
       "18. 1.95\n",
       "19. 18.05\n",
       "20. 2.95\n",
       "\n",
       "\n"
      ],
      "text/plain": [
       " [1]  0.05  8.05  8.05  6.05  4.05  2.95  4.95  0.05 10.05  3.05  7.95  3.95\n",
       "[13] 19.05 24.95  3.95  2.95 19.95  1.95 18.05  2.95"
      ]
     },
     "metadata": {},
     "output_type": "display_data"
    },
    {
     "data": {
      "text/html": [
       "7.65"
      ],
      "text/latex": [
       "7.65"
      ],
      "text/markdown": [
       "7.65"
      ],
      "text/plain": [
       "[1] 7.65"
      ]
     },
     "metadata": {},
     "output_type": "display_data"
    }
   ],
   "source": [
    "test_dev <- abs(test_a - test_mean)\n",
    "abs(test_a - test_mean)\n",
    "# ここが平均偏差\n",
    "mean(test_dev)"
   ]
  },
  {
   "cell_type": "markdown",
   "metadata": {},
   "source": [
    "**最大値 (max)** :　データの中で一番大きい値<br>\n",
    "**最小値 (min)** : データの中で一番小さい値<br>\n",
    "<br>\n",
    "**範囲** : minからmaxまで\n"
   ]
  },
  {
   "cell_type": "code",
   "execution_count": 184,
   "metadata": {},
   "outputs": [
    {
     "data": {
      "text/html": [
       "42"
      ],
      "text/latex": [
       "42"
      ],
      "text/markdown": [
       "42"
      ],
      "text/plain": [
       "[1] 42"
      ]
     },
     "metadata": {},
     "output_type": "display_data"
    },
    {
     "data": {
      "text/html": [
       "86"
      ],
      "text/latex": [
       "86"
      ],
      "text/markdown": [
       "86"
      ],
      "text/plain": [
       "[1] 86"
      ]
     },
     "metadata": {},
     "output_type": "display_data"
    },
    {
     "data": {
      "text/html": [
       "44"
      ],
      "text/latex": [
       "44"
      ],
      "text/markdown": [
       "44"
      ],
      "text/plain": [
       "[1] 44"
      ]
     },
     "metadata": {},
     "output_type": "display_data"
    }
   ],
   "source": [
    "min_a <- min(test_a)\n",
    "min_a\n",
    "max_a <- max(test_a)\n",
    "max_a\n",
    "\n",
    "range_a <- max_a - min_a \n",
    "range_a"
   ]
  },
  {
   "cell_type": "code",
   "execution_count": 185,
   "metadata": {},
   "outputs": [
    {
     "data": {
      "text/html": [
       "<ol class=list-inline>\n",
       "\t<li>42</li>\n",
       "\t<li>86</li>\n",
       "</ol>\n"
      ],
      "text/latex": [
       "\\begin{enumerate*}\n",
       "\\item 42\n",
       "\\item 86\n",
       "\\end{enumerate*}\n"
      ],
      "text/markdown": [
       "1. 42\n",
       "2. 86\n",
       "\n",
       "\n"
      ],
      "text/plain": [
       "[1] 42 86"
      ]
     },
     "metadata": {},
     "output_type": "display_data"
    }
   ],
   "source": [
    "range(test_a)"
   ]
  },
  {
   "cell_type": "markdown",
   "metadata": {},
   "source": [
    "## 2.10 標準化\n",
    "平均と標準偏差がある特定の値になるように、全データの値を同じ式を使用して変換すること。<br>\n",
    "変換した値を**標準化得点**と言います。<br><br>\n",
    "$$\n",
    "    Z得点 = \\frac{データの値 - 平均}{標準偏差}\n",
    "$$"
   ]
  },
  {
   "cell_type": "code",
   "execution_count": 186,
   "metadata": {},
   "outputs": [
    {
     "data": {
      "text/html": [
       "<ol class=list-inline>\n",
       "\t<li>61</li>\n",
       "\t<li>53</li>\n",
       "\t<li>53</li>\n",
       "\t<li>55</li>\n",
       "\t<li>57</li>\n",
       "\t<li>64</li>\n",
       "\t<li>66</li>\n",
       "\t<li>61</li>\n",
       "\t<li>51</li>\n",
       "\t<li>58</li>\n",
       "\t<li>69</li>\n",
       "\t<li>65</li>\n",
       "\t<li>42</li>\n",
       "\t<li>86</li>\n",
       "\t<li>65</li>\n",
       "\t<li>64</li>\n",
       "\t<li>81</li>\n",
       "\t<li>63</li>\n",
       "\t<li>43</li>\n",
       "\t<li>64</li>\n",
       "</ol>\n"
      ],
      "text/latex": [
       "\\begin{enumerate*}\n",
       "\\item 61\n",
       "\\item 53\n",
       "\\item 53\n",
       "\\item 55\n",
       "\\item 57\n",
       "\\item 64\n",
       "\\item 66\n",
       "\\item 61\n",
       "\\item 51\n",
       "\\item 58\n",
       "\\item 69\n",
       "\\item 65\n",
       "\\item 42\n",
       "\\item 86\n",
       "\\item 65\n",
       "\\item 64\n",
       "\\item 81\n",
       "\\item 63\n",
       "\\item 43\n",
       "\\item 64\n",
       "\\end{enumerate*}\n"
      ],
      "text/markdown": [
       "1. 61\n",
       "2. 53\n",
       "3. 53\n",
       "4. 55\n",
       "5. 57\n",
       "6. 64\n",
       "7. 66\n",
       "8. 61\n",
       "9. 51\n",
       "10. 58\n",
       "11. 69\n",
       "12. 65\n",
       "13. 42\n",
       "14. 86\n",
       "15. 65\n",
       "16. 64\n",
       "17. 81\n",
       "18. 63\n",
       "19. 43\n",
       "20. 64\n",
       "\n",
       "\n"
      ],
      "text/plain": [
       " [1] 61 53 53 55 57 64 66 61 51 58 69 65 42 86 65 64 81 63 43 64"
      ]
     },
     "metadata": {},
     "output_type": "display_data"
    }
   ],
   "source": [
    "test_a"
   ]
  },
  {
   "cell_type": "code",
   "execution_count": 188,
   "metadata": {},
   "outputs": [
    {
     "data": {
      "text/html": [
       "61.05"
      ],
      "text/latex": [
       "61.05"
      ],
      "text/markdown": [
       "61.05"
      ],
      "text/plain": [
       "[1] 61.05"
      ]
     },
     "metadata": {},
     "output_type": "display_data"
    }
   ],
   "source": [
    "test_mean <- mean(test_a)\n",
    "test_mean"
   ]
  },
  {
   "cell_type": "markdown",
   "metadata": {},
   "source": [
    "sd関数を使用すると、不偏分散で計算してしまうので、<br>\n",
    "今回は自分で標準偏差を書きます。"
   ]
  },
  {
   "cell_type": "code",
   "execution_count": 195,
   "metadata": {},
   "outputs": [
    {
     "data": {
      "text/html": [
       "10.3705110770878"
      ],
      "text/latex": [
       "10.3705110770878"
      ],
      "text/markdown": [
       "10.3705110770878"
      ],
      "text/plain": [
       "[1] 10.37051"
      ]
     },
     "metadata": {},
     "output_type": "display_data"
    }
   ],
   "source": [
    "test_sd <- test_a - test_mean # ここで偏差を出す。\n",
    "test_sd <- test_sd ** 2 # ここで偏差を２乗する。\n",
    "test_sd <- mean(test_sd) #ここで偏差の平均を出す。\n",
    "test_sd <- sqrt(test_sd) # ここで偏差の平均の、２乗根を出して「標準偏差」の完成！\n",
    "test_sd"
   ]
  },
  {
   "cell_type": "markdown",
   "metadata": {},
   "source": [
    "ここからZ得点を出します。"
   ]
  },
  {
   "cell_type": "code",
   "execution_count": 196,
   "metadata": {},
   "outputs": [
    {
     "data": {
      "text/html": [
       "<ol class=list-inline>\n",
       "\t<li>-0.00482136315446067</li>\n",
       "\t<li>-0.776239467868211</li>\n",
       "\t<li>-0.776239467868211</li>\n",
       "\t<li>-0.583384941689774</li>\n",
       "\t<li>-0.390530415511336</li>\n",
       "\t<li>0.284460426113196</li>\n",
       "\t<li>0.477314952291634</li>\n",
       "\t<li>-0.00482136315446067</li>\n",
       "\t<li>-0.969093994046649</li>\n",
       "\t<li>-0.294103152422117</li>\n",
       "\t<li>0.76659674155929</li>\n",
       "\t<li>0.380887689202415</li>\n",
       "\t<li>-1.83693936184962</li>\n",
       "\t<li>2.40586021407601</li>\n",
       "\t<li>0.380887689202415</li>\n",
       "\t<li>0.284460426113196</li>\n",
       "\t<li>1.92372389862992</li>\n",
       "\t<li>0.188033163023977</li>\n",
       "\t<li>-1.7405120987604</li>\n",
       "\t<li>0.284460426113196</li>\n",
       "</ol>\n"
      ],
      "text/latex": [
       "\\begin{enumerate*}\n",
       "\\item -0.00482136315446067\n",
       "\\item -0.776239467868211\n",
       "\\item -0.776239467868211\n",
       "\\item -0.583384941689774\n",
       "\\item -0.390530415511336\n",
       "\\item 0.284460426113196\n",
       "\\item 0.477314952291634\n",
       "\\item -0.00482136315446067\n",
       "\\item -0.969093994046649\n",
       "\\item -0.294103152422117\n",
       "\\item 0.76659674155929\n",
       "\\item 0.380887689202415\n",
       "\\item -1.83693936184962\n",
       "\\item 2.40586021407601\n",
       "\\item 0.380887689202415\n",
       "\\item 0.284460426113196\n",
       "\\item 1.92372389862992\n",
       "\\item 0.188033163023977\n",
       "\\item -1.7405120987604\n",
       "\\item 0.284460426113196\n",
       "\\end{enumerate*}\n"
      ],
      "text/markdown": [
       "1. -0.00482136315446067\n",
       "2. -0.776239467868211\n",
       "3. -0.776239467868211\n",
       "4. -0.583384941689774\n",
       "5. -0.390530415511336\n",
       "6. 0.284460426113196\n",
       "7. 0.477314952291634\n",
       "8. -0.00482136315446067\n",
       "9. -0.969093994046649\n",
       "10. -0.294103152422117\n",
       "11. 0.76659674155929\n",
       "12. 0.380887689202415\n",
       "13. -1.83693936184962\n",
       "14. 2.40586021407601\n",
       "15. 0.380887689202415\n",
       "16. 0.284460426113196\n",
       "17. 1.92372389862992\n",
       "18. 0.188033163023977\n",
       "19. -1.7405120987604\n",
       "20. 0.284460426113196\n",
       "\n",
       "\n"
      ],
      "text/plain": [
       " [1] -0.004821363 -0.776239468 -0.776239468 -0.583384942 -0.390530416\n",
       " [6]  0.284460426  0.477314952 -0.004821363 -0.969093994 -0.294103152\n",
       "[11]  0.766596742  0.380887689 -1.836939362  2.405860214  0.380887689\n",
       "[16]  0.284460426  1.923723899  0.188033163 -1.740512099  0.284460426"
      ]
     },
     "metadata": {},
     "output_type": "display_data"
    }
   ],
   "source": [
    "zpoint <- (test_a - test_mean)/test_sd\n",
    "zpoint"
   ]
  },
  {
   "cell_type": "markdown",
   "metadata": {},
   "source": [
    "ちゃんとそれっぽくなっているか、確認をとる"
   ]
  },
  {
   "cell_type": "code",
   "execution_count": 197,
   "metadata": {},
   "outputs": [
    {
     "data": {
      "text/html": [
       "2.72697175170838e-16"
      ],
      "text/latex": [
       "2.72697175170838e-16"
      ],
      "text/markdown": [
       "2.72697175170838e-16"
      ],
      "text/plain": [
       "[1] 2.726972e-16"
      ]
     },
     "metadata": {},
     "output_type": "display_data"
    }
   ],
   "source": [
    "mean(zpoint) # zpointの平均は、ほぼゼロ(定義上はゼロ)"
   ]
  },
  {
   "cell_type": "code",
   "execution_count": 204,
   "metadata": {},
   "outputs": [
    {
     "data": {
      "text/html": [
       "1"
      ],
      "text/latex": [
       "1"
      ],
      "text/markdown": [
       "1"
      ],
      "text/plain": [
       "[1] 1"
      ]
     },
     "metadata": {},
     "output_type": "display_data"
    }
   ],
   "source": [
    "sqrt(mean((zpoint - mean(zpoint))**2)) # 標準偏差は１になるはず。"
   ]
  },
  {
   "cell_type": "markdown",
   "metadata": {},
   "source": [
    "## 2.11 偏差値\n",
    "\n",
    "$$\n",
    "偏差値 = z得点*10 + 50\n",
    "$$"
   ]
  },
  {
   "cell_type": "code",
   "execution_count": 206,
   "metadata": {},
   "outputs": [
    {
     "data": {
      "text/html": [
       "<ol class=list-inline>\n",
       "\t<li>49.9517863684554</li>\n",
       "\t<li>42.2376053213179</li>\n",
       "\t<li>42.2376053213179</li>\n",
       "\t<li>44.1661505831023</li>\n",
       "\t<li>46.0946958448866</li>\n",
       "\t<li>52.844604261132</li>\n",
       "\t<li>54.7731495229163</li>\n",
       "\t<li>49.9517863684554</li>\n",
       "\t<li>40.3090600595335</li>\n",
       "\t<li>47.0589684757788</li>\n",
       "\t<li>57.6659674155929</li>\n",
       "\t<li>53.8088768920241</li>\n",
       "\t<li>31.6306063815038</li>\n",
       "\t<li>74.0586021407601</li>\n",
       "\t<li>53.8088768920241</li>\n",
       "\t<li>52.844604261132</li>\n",
       "\t<li>69.2372389862992</li>\n",
       "\t<li>51.8803316302398</li>\n",
       "\t<li>32.594879012396</li>\n",
       "\t<li>52.844604261132</li>\n",
       "</ol>\n"
      ],
      "text/latex": [
       "\\begin{enumerate*}\n",
       "\\item 49.9517863684554\n",
       "\\item 42.2376053213179\n",
       "\\item 42.2376053213179\n",
       "\\item 44.1661505831023\n",
       "\\item 46.0946958448866\n",
       "\\item 52.844604261132\n",
       "\\item 54.7731495229163\n",
       "\\item 49.9517863684554\n",
       "\\item 40.3090600595335\n",
       "\\item 47.0589684757788\n",
       "\\item 57.6659674155929\n",
       "\\item 53.8088768920241\n",
       "\\item 31.6306063815038\n",
       "\\item 74.0586021407601\n",
       "\\item 53.8088768920241\n",
       "\\item 52.844604261132\n",
       "\\item 69.2372389862992\n",
       "\\item 51.8803316302398\n",
       "\\item 32.594879012396\n",
       "\\item 52.844604261132\n",
       "\\end{enumerate*}\n"
      ],
      "text/markdown": [
       "1. 49.9517863684554\n",
       "2. 42.2376053213179\n",
       "3. 42.2376053213179\n",
       "4. 44.1661505831023\n",
       "5. 46.0946958448866\n",
       "6. 52.844604261132\n",
       "7. 54.7731495229163\n",
       "8. 49.9517863684554\n",
       "9. 40.3090600595335\n",
       "10. 47.0589684757788\n",
       "11. 57.6659674155929\n",
       "12. 53.8088768920241\n",
       "13. 31.6306063815038\n",
       "14. 74.0586021407601\n",
       "15. 53.8088768920241\n",
       "16. 52.844604261132\n",
       "17. 69.2372389862992\n",
       "18. 51.8803316302398\n",
       "19. 32.594879012396\n",
       "20. 52.844604261132\n",
       "\n",
       "\n"
      ],
      "text/plain": [
       " [1] 49.95179 42.23761 42.23761 44.16615 46.09470 52.84460 54.77315 49.95179\n",
       " [9] 40.30906 47.05897 57.66597 53.80888 31.63061 74.05860 53.80888 52.84460\n",
       "[17] 69.23724 51.88033 32.59488 52.84460"
      ]
     },
     "metadata": {},
     "output_type": "display_data"
    }
   ],
   "source": [
    "dev_val <- (10*zpoint) +50 \n",
    "dev_val"
   ]
  },
  {
   "cell_type": "code",
   "execution_count": 208,
   "metadata": {},
   "outputs": [
    {
     "data": {
      "text/html": [
       "50"
      ],
      "text/latex": [
       "50"
      ],
      "text/markdown": [
       "50"
      ],
      "text/plain": [
       "[1] 50"
      ]
     },
     "metadata": {},
     "output_type": "display_data"
    },
    {
     "data": {
      "text/html": [
       "10"
      ],
      "text/latex": [
       "10"
      ],
      "text/markdown": [
       "10"
      ],
      "text/plain": [
       "[1] 10"
      ]
     },
     "metadata": {},
     "output_type": "display_data"
    }
   ],
   "source": [
    "mean(dev_val)\n",
    "sqrt(mean((dev_val - mean(dev_val))**2))"
   ]
  }
 ],
 "metadata": {
  "kernelspec": {
   "display_name": "R",
   "language": "R",
   "name": "ir"
  },
  "language_info": {
   "codemirror_mode": "r",
   "file_extension": ".r",
   "mimetype": "text/x-r-source",
   "name": "R",
   "pygments_lexer": "r",
   "version": "3.5.1"
  }
 },
 "nbformat": 4,
 "nbformat_minor": 2
}
